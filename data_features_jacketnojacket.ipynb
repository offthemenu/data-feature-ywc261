{
  "nbformat": 4,
  "nbformat_minor": 0,
  "metadata": {
    "colab": {
      "provenance": [],
      "authorship_tag": "ABX9TyMAK8iX/P0Ya3H4uEIodOYK",
      "include_colab_link": true
    },
    "kernelspec": {
      "name": "python3",
      "display_name": "Python 3"
    },
    "language_info": {
      "name": "python"
    }
  },
  "cells": [
    {
      "cell_type": "markdown",
      "metadata": {
        "id": "view-in-github",
        "colab_type": "text"
      },
      "source": [
        "<a href=\"https://colab.research.google.com/github/offthemenu/data-feature-ywc261/blob/main/data_features_jacketnojacket.ipynb\" target=\"_parent\"><img src=\"https://colab.research.google.com/assets/colab-badge.svg\" alt=\"Open In Colab\"/></a>"
      ]
    },
    {
      "cell_type": "code",
      "execution_count": 23,
      "metadata": {
        "id": "g9jgYoTSsodL",
        "colab": {
          "base_uri": "https://localhost:8080/"
        },
        "outputId": "47938650-3313-48ba-86b2-da49afea9ef4"
      },
      "outputs": [
        {
          "output_type": "stream",
          "name": "stdout",
          "text": [
            "Successfully loaded Accuweather API Key\n",
            "Successfully loaded IP Stack API Key\n",
            "Successfully loaded new IP Stack API Key\n"
          ]
        }
      ],
      "source": [
        "# Set up API keys\n",
        "\n",
        "from google.colab import userdata\n",
        "\n",
        "ACCU_API_KEY = userdata.get(\"ACCU_API_KEY\")\n",
        "\n",
        "IP_API_KEY = userdata.get(\"IPSTACK_API_KEY\")\n",
        "\n",
        "BD_API_KEY = userdata.get(\"BD_API_KEY\")\n",
        "\n",
        "\n",
        "\n",
        "if ACCU_API_KEY:\n",
        "    print(\"Successfully loaded Accuweather API Key\")\n",
        "else:\n",
        "    print(\"Failed to load Accuweather API Key\")\n",
        "\n",
        "if IP_API_KEY:\n",
        "    print(\"Successfully loaded IP Stack API Key\")\n",
        "else:\n",
        "    print(\"Failed to load IP Stack API Key\")\n",
        "\n",
        "if BD_API_KEY:\n",
        "    print(\"Successfully loaded new IP Stack API Key\")\n",
        "else:\n",
        "    print(\"Failed to load new IP Stack API Key\")"
      ]
    },
    {
      "cell_type": "markdown",
      "source": [
        "## 1. Create a function that will return a public IP address for the user."
      ],
      "metadata": {
        "id": "5e88U1R0R9eN"
      }
    },
    {
      "cell_type": "code",
      "source": [
        "import requests\n",
        "\n",
        "def getIP():\n",
        "  url_getip = f\"https://api-bdc.net/data/client-ip\"\n",
        "  r_getip = requests.get(url_getip)\n",
        "  data_getip = r_getip.json()\n",
        "  ip_address = data_getip['ipString']\n",
        "  # ip_type = data_getip[\"ipType\"]\n",
        "  # print(ip_address, ip_type)\n",
        "\n",
        "  return ip_address\n",
        "\n",
        "# Test results and store the returned output to the ip_address variable\n",
        "ip_address = getIP()\n",
        "print(ip_address)"
      ],
      "metadata": {
        "colab": {
          "base_uri": "https://localhost:8080/"
        },
        "id": "SqYgdF8TNz01",
        "outputId": "34ff3cb8-6b73-4301-f1d6-277802e440a5"
      },
      "execution_count": 34,
      "outputs": [
        {
          "output_type": "stream",
          "name": "stdout",
          "text": [
            "34.45.66.225\n"
          ]
        }
      ]
    },
    {
      "cell_type": "markdown",
      "source": [
        "## 2. Create a function that will return the corresponding address."
      ],
      "metadata": {
        "id": "id0Ax1DFSSTI"
      }
    },
    {
      "cell_type": "code",
      "source": [
        "import requests\n",
        "\n",
        "def get_location(ipAddress):\n",
        "  url_ip = f\"https://api-bdc.net/data/ip-geolocation?ip={ip_address}&localityLanguage=en&key={BD_API_KEY}\"\n",
        "  r_ip = requests.get(url_ip)\n",
        "  data_ip = r_ip.json()\n",
        "  data_ip\n",
        "  location_query = f\"{data_ip['location']['localityName']}, {data_ip['location']['principalSubdivision']}\"\n",
        "  return location_query\n",
        "\n",
        "# Test results and store the returned output to the location_query variable\n",
        "location_query = get_location(ip_address)\n",
        "print(location_query)"
      ],
      "metadata": {
        "colab": {
          "base_uri": "https://localhost:8080/"
        },
        "id": "aXg_D8R1X25U",
        "outputId": "64054ae0-da08-4b6b-b2cc-08dfe04320bc"
      },
      "execution_count": 35,
      "outputs": [
        {
          "output_type": "stream",
          "name": "stdout",
          "text": [
            "Township of Kane, Iowa\n"
          ]
        }
      ]
    },
    {
      "cell_type": "markdown",
      "source": [
        "## 3. Create a function that will return 4 varialbes: weather, temp in C, temp in F, and precipitation from the name of the location"
      ],
      "metadata": {
        "id": "HbsKMgbUSmi8"
      }
    },
    {
      "cell_type": "code",
      "source": [
        "def get_weather(location_query):\n",
        "  '''\n",
        "  location query: string in the format of \"city, state\"\n",
        "  output: (in the order of) current weather, current temperature in Celsius, current temperature in Fahrenheit, and precipitation.\n",
        "  '''\n",
        "\n",
        "  url_weather_loc = f\"http://dataservice.accuweather.com/locations/v1/cities/search?apikey={ACCU_API_KEY}&q={location_query}\"\n",
        "  r_weather_loc = requests.get(url_weather_loc)\n",
        "  data_weather_loc = r_weather_loc.json()\n",
        "  location_key = data_weather_loc[0]['Key']\n",
        "\n",
        "  url_currentweather = f\"http://dataservice.accuweather.com/currentconditions/v1/{location_key}?apikey={ACCU_API_KEY}\"\n",
        "  r_currentweather = requests.get(url_currentweather)\n",
        "  data_currentweather = r_currentweather.json()\n",
        "  current_weather = data_currentweather[0]['WeatherText']\n",
        "  current_temp_F = data_currentweather[0]['Temperature']['Imperial']['Value']\n",
        "  current_temp_C = data_currentweather[0]['Temperature']['Metric']['Value']\n",
        "  precipitation = data_currentweather[0]['HasPrecipitation']\n",
        "\n",
        "  return current_weather, current_temp_C, current_temp_F, precipitation\n",
        "\n",
        "# Test results and store the returned output to the respective variables\n",
        "\n",
        "current_weather, current_tempC, current_tempF, precipitation = get_weather(location_query)\n",
        "print(current_weather, current_tempC, current_tempF, precipitation)"
      ],
      "metadata": {
        "colab": {
          "base_uri": "https://localhost:8080/"
        },
        "id": "SdeF66QcXzjD",
        "outputId": "e2fe66a0-29d9-4499-8c12-27f83e2841f5"
      },
      "execution_count": 36,
      "outputs": [
        {
          "output_type": "stream",
          "name": "stdout",
          "text": [
            "Clear 14.4 58.0 False\n"
          ]
        }
      ]
    },
    {
      "cell_type": "markdown",
      "source": [
        "## 4. Combine all the functions above into a single program"
      ],
      "metadata": {
        "id": "ntOYKZrFXVPh"
      }
    },
    {
      "cell_type": "code",
      "source": [
        "userInput = input(\"Would you like to know if you'll need a jacket? (Yes/No)\").lower()\n",
        "\n",
        "if userInput == \"yes\":\n",
        "    ipAddress = getIP()\n",
        "\n",
        "    currentLocation = get_location(ipAddress)\n",
        "\n",
        "    current_weather, current_tempC, current_tempF, precipitation = get_weather(currentLocation)\n",
        "    if precipitation == True:\n",
        "      print(f\"The weather in {currentLocation} is currently {current_weather} with the temperature at {current_tempC} Celsius or {current_tempF} Farenheit. It is currently raining outside–you might want to bring an umbrella.\")\n",
        "    else:\n",
        "      print(f\"The weather in {currentLocation} is currently {current_weather} with the temperature at {current_tempC} Celsius or {current_tempF} Farenheit. It is currently not raining outside.\")\n",
        "else:\n",
        "    print(\"Okay, bye!\")"
      ],
      "metadata": {
        "colab": {
          "base_uri": "https://localhost:8080/"
        },
        "id": "N51mTmTwnaR5",
        "outputId": "ea65b08b-4d57-4dce-f3b3-1f4be8a103b8"
      },
      "execution_count": 37,
      "outputs": [
        {
          "output_type": "stream",
          "name": "stdout",
          "text": [
            "Would you like to know if you'll need a jacket? (Yes/No)yes\n",
            "The weather in Township of Kane, Iowa is currently Clear with the temperature at 14.4 Celsius or 58.0 Farenheit. It is currently not raining outside.\n"
          ]
        }
      ]
    },
    {
      "cell_type": "code",
      "source": [],
      "metadata": {
        "id": "k-orWbLRZEJf"
      },
      "execution_count": null,
      "outputs": []
    }
  ]
}