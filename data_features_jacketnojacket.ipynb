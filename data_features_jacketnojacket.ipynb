{
  "nbformat": 4,
  "nbformat_minor": 0,
  "metadata": {
    "colab": {
      "provenance": [],
      "authorship_tag": "ABX9TyP17oCpf7DD8GojsnwQZ4Fz",
      "include_colab_link": true
    },
    "kernelspec": {
      "name": "python3",
      "display_name": "Python 3"
    },
    "language_info": {
      "name": "python"
    }
  },
  "cells": [
    {
      "cell_type": "markdown",
      "metadata": {
        "id": "view-in-github",
        "colab_type": "text"
      },
      "source": [
        "<a href=\"https://colab.research.google.com/github/offthemenu/data-feature-ywc261/blob/main/data_features_jacketnojacket.ipynb\" target=\"_parent\"><img src=\"https://colab.research.google.com/assets/colab-badge.svg\" alt=\"Open In Colab\"/></a>"
      ]
    },
    {
      "cell_type": "markdown",
      "source": [
        "# This program lets the user know if jacket will be needed to go outside based on the weather information that corresponds to the geolocation of each prompted public IP address.\n",
        "\n",
        "### *Note: because WI-FI-based pubic IP addresses can provide somewhat of a random location unrelated to the user, in actual practice, we would more likely use a Python library that provides geolocation value based on the prompted machine's GPS information.*"
      ],
      "metadata": {
        "id": "JHZisluzmESC"
      }
    },
    {
      "cell_type": "code",
      "execution_count": null,
      "metadata": {
        "id": "g9jgYoTSsodL",
        "colab": {
          "base_uri": "https://localhost:8080/"
        },
        "outputId": "7aabe4e7-f667-4eaa-ee6b-1126aa9b77f4"
      },
      "outputs": [
        {
          "output_type": "stream",
          "name": "stdout",
          "text": [
            "Successfully loaded Accuweather API Key\n",
            "Successfully loaded IP Stack API Key\n",
            "Successfully loaded new IP API Key\n"
          ]
        }
      ],
      "source": [
        "# Set up API keys\n",
        "\n",
        "from google.colab import userdata\n",
        "\n",
        "ACCU_API_KEY = userdata.get(\"ACCU_API_KEY\")\n",
        "\n",
        "IP_API_KEY = userdata.get(\"IPSTACK_API_KEY\")\n",
        "\n",
        "BD_API_KEY = userdata.get(\"BD_API_KEY\")\n",
        "\n",
        "\n",
        "# Make sure the API keys are loaded successfully.\n",
        "# Note: IP Stack started acting up mid-assignment, so I resorted to Big Data Cloud.\n",
        "if ACCU_API_KEY:\n",
        "    print(\"Successfully loaded Accuweather API Key\")\n",
        "else:\n",
        "    print(\"Failed to load Accuweather API Key\")\n",
        "\n",
        "if IP_API_KEY:\n",
        "    print(\"Successfully loaded IP Stack API Key\")\n",
        "else:\n",
        "    print(\"Failed to load IP Stack API Key\")\n",
        "\n",
        "if BD_API_KEY:\n",
        "    print(\"Successfully loaded new IP API Key\")\n",
        "else:\n",
        "    print(\"Failed to load new IP API Key\")"
      ]
    },
    {
      "cell_type": "markdown",
      "source": [
        "## 1. Create a function that will return a public IP address for the user."
      ],
      "metadata": {
        "id": "5e88U1R0R9eN"
      }
    },
    {
      "cell_type": "code",
      "source": [
        "import requests\n",
        "\n",
        "# Create a function that will return a public IP address for the user.\n",
        "def getIP():\n",
        "  '''\n",
        "  output: string\n",
        "  '''\n",
        "  url_getip = f\"https://api-bdc.net/data/client-ip\"\n",
        "  r_getip = requests.get(url_getip)\n",
        "  data_getip = r_getip.json()\n",
        "\n",
        "  # From the JSON strip, extract the value under ipString to get the IP Address\n",
        "  ip_address = data_getip['ipString']\n",
        "  # ip_type = data_getip[\"ipType\"]\n",
        "  # print(ip_address, ip_type)\n",
        "\n",
        "  return ip_address\n",
        "\n",
        "# Test results and store the returned output to the ip_address variable\n",
        "ip_address = getIP()\n",
        "print(type(ip_address))"
      ],
      "metadata": {
        "colab": {
          "base_uri": "https://localhost:8080/"
        },
        "id": "SqYgdF8TNz01",
        "outputId": "8039d4c3-ae3b-4aaf-87ce-24af1c1e7258"
      },
      "execution_count": null,
      "outputs": [
        {
          "output_type": "stream",
          "name": "stdout",
          "text": [
            "<class 'str'>\n"
          ]
        }
      ]
    },
    {
      "cell_type": "markdown",
      "source": [
        "## 2. Create a function that will return the corresponding address."
      ],
      "metadata": {
        "id": "id0Ax1DFSSTI"
      }
    },
    {
      "cell_type": "code",
      "source": [
        "import requests\n",
        "\n",
        "# Create a function that will return the corresponding address.\n",
        "def get_location(ipAddress):\n",
        "  '''\n",
        "  ipAddress: string\n",
        "  output: string in the format of \"city, state\"\n",
        "  '''\n",
        "  url_ip = f\"https://api-bdc.net/data/ip-geolocation?ip={ip_address}&localityLanguage=en&key={BD_API_KEY}\"\n",
        "  r_ip = requests.get(url_ip)\n",
        "  data_ip = r_ip.json()\n",
        "  # examine the geolocation data under the JSON strip and extract city and state information\n",
        "  location_query = f\"{data_ip['location']['localityName']}, {data_ip['location']['principalSubdivision']}\"\n",
        "  return location_query\n",
        "\n",
        "# Test results and store the returned output to the location_query variable\n",
        "location_query = get_location(ip_address)\n",
        "print(location_query)"
      ],
      "metadata": {
        "colab": {
          "base_uri": "https://localhost:8080/"
        },
        "id": "aXg_D8R1X25U",
        "outputId": "e48f0203-1654-4fe7-b372-720b4fd03c33"
      },
      "execution_count": null,
      "outputs": [
        {
          "output_type": "stream",
          "name": "stdout",
          "text": [
            "The Dalles, Oregon\n"
          ]
        }
      ]
    },
    {
      "cell_type": "markdown",
      "source": [
        "## 3. Create a function that will return 4 varialbes: weather, temp in C, temp in F, and precipitation from the name of the location"
      ],
      "metadata": {
        "id": "HbsKMgbUSmi8"
      }
    },
    {
      "cell_type": "code",
      "source": [
        "# Create a function that will return the weather information given the geographic information\n",
        "def get_weather(location_query):\n",
        "  '''\n",
        "  location query: string in the format of \"city, state\"\n",
        "  output: (in the order of) current weather, current temperature in Celsius, current temperature in Fahrenheit, and precipitation.\n",
        "  '''\n",
        "  # First, retrieve the location key from Accuweather's locations services to be used as a search query\n",
        "  url_weather_loc = f\"http://dataservice.accuweather.com/locations/v1/cities/search?apikey={ACCU_API_KEY}&q={location_query}\"\n",
        "  r_weather_loc = requests.get(url_weather_loc)\n",
        "  data_weather_loc = r_weather_loc.json()\n",
        "  location_key = data_weather_loc[0]['Key']\n",
        "\n",
        "  # Using the location key, search from the current weather of the geographical location that corresponds to the IP address\n",
        "  url_currentweather = f\"http://dataservice.accuweather.com/currentconditions/v1/{location_key}?apikey={ACCU_API_KEY}\"\n",
        "  r_currentweather = requests.get(url_currentweather)\n",
        "  data_currentweather = r_currentweather.json()\n",
        "\n",
        "  # Parse the information on current weather, temperature in Celsius and Fahrenheit, and precipitation\n",
        "  current_weather = data_currentweather[0]['WeatherText']\n",
        "  current_temp_F = data_currentweather[0]['Temperature']['Imperial']['Value']\n",
        "  current_temp_C = data_currentweather[0]['Temperature']['Metric']['Value']\n",
        "  precipitation = data_currentweather[0]['HasPrecipitation']\n",
        "\n",
        "  return current_weather, current_temp_C, current_temp_F, precipitation\n",
        "\n",
        "# Test results and store the returned output to the respective variables\n",
        "\n",
        "current_weather, current_tempC, current_tempF, precipitation = get_weather(location_query)\n",
        "print(current_weather, current_tempC, current_tempF, precipitation)"
      ],
      "metadata": {
        "colab": {
          "base_uri": "https://localhost:8080/"
        },
        "id": "SdeF66QcXzjD",
        "outputId": "44481ede-2494-4aef-c520-fd8277b2b79a"
      },
      "execution_count": null,
      "outputs": [
        {
          "output_type": "stream",
          "name": "stdout",
          "text": [
            "Mostly cloudy 16.7 62.0 False\n"
          ]
        }
      ]
    },
    {
      "cell_type": "markdown",
      "source": [
        "## 4. Combine all the functions above into a single program"
      ],
      "metadata": {
        "id": "ntOYKZrFXVPh"
      }
    },
    {
      "cell_type": "code",
      "source": [
        "userInput = input(\"Would you like to know if you'll need a jacket? (Yes/No)\").lower()\n",
        "\n",
        "if userInput == \"yes\":\n",
        "    ipAddress = getIP()\n",
        "\n",
        "    currentLocation = get_location(ipAddress)\n",
        "\n",
        "    current_weather, current_tempC, current_tempF, precipitation = get_weather(currentLocation)\n",
        "\n",
        "    if current_tempC < 15:\n",
        "      if precipitation == True:\n",
        "        print(f\"The weather in {currentLocation} is currently {current_weather} with the temperature at {current_tempC} Celsius or {current_tempF} Fahrenheit.\\nYou might want to consider bringing a light jacket.\\nAlso, it is currently raining outside–you might want to bring an umbrella.\")\n",
        "      else:\n",
        "        print(f\"The weather in {currentLocation} is currently {current_weather} with the temperature at {current_tempC} Celsius or {current_tempF} Fahrenheit.\\nYou might want to consider bringing a light jacket.\")\n",
        "    elif current_tempC < 5:\n",
        "      if precipitation == True:\n",
        "        print(f\"The weather in {currentLocation} is currently {current_weather} with the temperature at {current_tempC} Celsius or {current_tempF} Fahrenheit.\\nYou'll want to bring a jacket outside.\\nAlso, it is currently raining outside–you might want to bring an umbrella.\")\n",
        "      else:\n",
        "        print(f\"The weather in {currentLocation} is currently {current_weather} with the temperature at {current_tempC} Celsius or {current_tempF} Fahrenheit.\\nYou'll want to bring a jacket outside.\")\n",
        "    else:\n",
        "      if precipitation == True:\n",
        "        print(f\"The weather in {currentLocation} is currently {current_weather} with the temperature at {current_tempC} Celsius or {current_tempF} Fahrenheit.\\nNo need to bring a jacket.\\nHowever, it is currently raining outside–you might want to bring an umbrella.\")\n",
        "      else:\n",
        "        print(f\"The weather in {currentLocation} is currently {current_weather} with the temperature at {current_tempC} Celsius or {current_tempF} Fahrenheit.\\nNo need to bring a jacket.\")\n",
        "else:\n",
        "    print(\"Okay, bye!\")"
      ],
      "metadata": {
        "colab": {
          "base_uri": "https://localhost:8080/"
        },
        "id": "N51mTmTwnaR5",
        "outputId": "b1e7be5e-f904-43b0-8a74-455dc2792759"
      },
      "execution_count": null,
      "outputs": [
        {
          "output_type": "stream",
          "name": "stdout",
          "text": [
            "Would you like to know if you'll need a jacket? (Yes/No)no\n",
            "Okay, bye!\n"
          ]
        }
      ]
    },
    {
      "cell_type": "code",
      "source": [],
      "metadata": {
        "id": "Axyc59rdnUCo"
      },
      "execution_count": null,
      "outputs": []
    }
  ]
}